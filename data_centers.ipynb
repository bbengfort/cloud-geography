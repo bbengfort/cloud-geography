{
 "cells": [
  {
   "cell_type": "markdown",
   "metadata": {},
   "source": [
    "# Geographic Locations of Data Centers \n",
    "\n",
    "This notebook provides a visualization of the geographic locations of the data centers for various cloud providers to give a sense of the geographic coverage of cloud computing. The dataset can be found in the `fixtures` directory, and contains general locations for the following providers:\n",
    "\n",
    "- Amazon Web Services\n",
    "- Google Cloud Compute \n",
    "- Microsoft Azure \n",
    "- Digital Ocean \n",
    "- Linode "
   ]
  },
  {
   "cell_type": "code",
   "execution_count": 1,
   "metadata": {},
   "outputs": [],
   "source": [
    "%matplotlib notebook \n",
    "\n",
    "import pandas as pd \n",
    "import geopandas as geo \n",
    "import ipywidgets as widgets\n",
    "import matplotlib.pyplot as plt \n",
    "\n",
    "from ipywidgets import interact\n",
    "from geopandas.tools import sjoin\n",
    "from shapely.geometry import Point "
   ]
  },
  {
   "cell_type": "code",
   "execution_count": 2,
   "metadata": {},
   "outputs": [
    {
     "data": {
      "text/html": [
       "<div>\n",
       "<style scoped>\n",
       "    .dataframe tbody tr th:only-of-type {\n",
       "        vertical-align: middle;\n",
       "    }\n",
       "\n",
       "    .dataframe tbody tr th {\n",
       "        vertical-align: top;\n",
       "    }\n",
       "\n",
       "    .dataframe thead th {\n",
       "        text-align: right;\n",
       "    }\n",
       "</style>\n",
       "<table border=\"1\" class=\"dataframe\">\n",
       "  <thead>\n",
       "    <tr style=\"text-align: right;\">\n",
       "      <th></th>\n",
       "      <th>Provider</th>\n",
       "      <th>Location</th>\n",
       "      <th>Name</th>\n",
       "      <th>Notes</th>\n",
       "      <th>Available</th>\n",
       "      <th>Latitude</th>\n",
       "      <th>Longitude</th>\n",
       "      <th>Coordinates</th>\n",
       "    </tr>\n",
       "  </thead>\n",
       "  <tbody>\n",
       "    <tr>\n",
       "      <th>0</th>\n",
       "      <td>Microsoft Azure</td>\n",
       "      <td>Abu Dhabi, UAE</td>\n",
       "      <td>UAE Central</td>\n",
       "      <td>NaN</td>\n",
       "      <td>False</td>\n",
       "      <td>24.488180</td>\n",
       "      <td>54.354950</td>\n",
       "      <td>POINT (54.35495 24.48818)</td>\n",
       "    </tr>\n",
       "    <tr>\n",
       "      <th>1</th>\n",
       "      <td>Digital Ocean</td>\n",
       "      <td>Amsterdam, Netherlands</td>\n",
       "      <td>AMS2</td>\n",
       "      <td>NaN</td>\n",
       "      <td>True</td>\n",
       "      <td>52.370216</td>\n",
       "      <td>4.895168</td>\n",
       "      <td>POINT (4.895168 52.370216)</td>\n",
       "    </tr>\n",
       "    <tr>\n",
       "      <th>2</th>\n",
       "      <td>Digital Ocean</td>\n",
       "      <td>Amsterdam, Netherlands</td>\n",
       "      <td>AMS3</td>\n",
       "      <td>NaN</td>\n",
       "      <td>True</td>\n",
       "      <td>52.370216</td>\n",
       "      <td>4.895168</td>\n",
       "      <td>POINT (4.895168 52.370216)</td>\n",
       "    </tr>\n",
       "    <tr>\n",
       "      <th>3</th>\n",
       "      <td>AWS</td>\n",
       "      <td>Ashburn, Virginia</td>\n",
       "      <td>us-east-1</td>\n",
       "      <td>6 availability zones</td>\n",
       "      <td>True</td>\n",
       "      <td>39.042370</td>\n",
       "      <td>-77.487240</td>\n",
       "      <td>POINT (-77.48724 39.04237)</td>\n",
       "    </tr>\n",
       "    <tr>\n",
       "      <th>4</th>\n",
       "      <td>Google Cloud</td>\n",
       "      <td>Ashburn, Virginia</td>\n",
       "      <td>us-east4</td>\n",
       "      <td>3 availability zones</td>\n",
       "      <td>True</td>\n",
       "      <td>39.042370</td>\n",
       "      <td>-77.487240</td>\n",
       "      <td>POINT (-77.48724 39.04237)</td>\n",
       "    </tr>\n",
       "  </tbody>\n",
       "</table>\n",
       "</div>"
      ],
      "text/plain": [
       "           Provider                Location          Name  \\\n",
       "0  Microsoft Azure          Abu Dhabi, UAE   UAE Central    \n",
       "1     Digital Ocean  Amsterdam, Netherlands          AMS2   \n",
       "2     Digital Ocean  Amsterdam, Netherlands          AMS3   \n",
       "3               AWS       Ashburn, Virginia     us-east-1   \n",
       "4      Google Cloud       Ashburn, Virginia      us-east4   \n",
       "\n",
       "                   Notes  Available   Latitude  Longitude  \\\n",
       "0                    NaN      False  24.488180  54.354950   \n",
       "1                    NaN       True  52.370216   4.895168   \n",
       "2                    NaN       True  52.370216   4.895168   \n",
       "3  6 availability zones        True  39.042370 -77.487240   \n",
       "4   3 availability zones       True  39.042370 -77.487240   \n",
       "\n",
       "                  Coordinates  \n",
       "0   POINT (54.35495 24.48818)  \n",
       "1  POINT (4.895168 52.370216)  \n",
       "2  POINT (4.895168 52.370216)  \n",
       "3  POINT (-77.48724 39.04237)  \n",
       "4  POINT (-77.48724 39.04237)  "
      ]
     },
     "execution_count": 2,
     "metadata": {},
     "output_type": "execute_result"
    }
   ],
   "source": [
    "def load_data(path=\"fixtures/locations.csv\"):\n",
    "    df = pd.read_csv(path)\n",
    "    df['Available'] = df['Available'].apply(lambda v: v=='y')\n",
    "    df['Coordinates'] = list(zip(df.Longitude, df.Latitude))\n",
    "    df['Coordinates'] = df['Coordinates'].apply(Point)\n",
    "    \n",
    "    gdf = geo.GeoDataFrame(df, geometry='Coordinates')\n",
    "    return gdf \n",
    "\n",
    "cities = load_data()\n",
    "cities.head()"
   ]
  },
  {
   "cell_type": "code",
   "execution_count": 3,
   "metadata": {},
   "outputs": [],
   "source": [
    "PROVIDERS = frozenset(cities['Provider'].unique())\n",
    "COLORS = [\"#3498db\", \"#2ecc71\", \"#e74c3c\", \"#f39c12\", \"#9b59b6\"]\n",
    "COLORMAP = dict(zip(PROVIDERS, COLORS))"
   ]
  },
  {
   "cell_type": "code",
   "execution_count": 4,
   "metadata": {
    "scrolled": false
   },
   "outputs": [
    {
     "data": {
      "application/vnd.jupyter.widget-view+json": {
       "model_id": "5b24ab5c4d9842d5adebf1d5a749cb1c",
       "version_major": 2,
       "version_minor": 0
      },
      "text/html": [
       "<p>Failed to display Jupyter Widget of type <code>interactive</code>.</p>\n",
       "<p>\n",
       "  If you're reading this message in the Jupyter Notebook or JupyterLab Notebook, it may mean\n",
       "  that the widgets JavaScript is still loading. If this message persists, it\n",
       "  likely means that the widgets JavaScript library is either not installed or\n",
       "  not enabled. See the <a href=\"https://ipywidgets.readthedocs.io/en/stable/user_install.html\">Jupyter\n",
       "  Widgets Documentation</a> for setup instructions.\n",
       "</p>\n",
       "<p>\n",
       "  If you're reading this message in another frontend (for example, a static\n",
       "  rendering on GitHub or <a href=\"https://nbviewer.jupyter.org/\">NBViewer</a>),\n",
       "  it may mean that your frontend doesn't currently support widgets.\n",
       "</p>\n"
      ],
      "text/plain": [
       "interactive(children=(SelectMultiple(description='Providers', index=(0, 1, 2, 3, 4), options=('Microsoft Azure ', 'AWS', 'Digital Ocean', 'Google Cloud', 'Linode'), value=('Microsoft Azure ', 'AWS', 'Digital Ocean', 'Google Cloud', 'Linode')), Output()), _dom_classes=('widget-interact',))"
      ]
     },
     "metadata": {},
     "output_type": "display_data"
    }
   ],
   "source": [
    "@interact(providers=widgets.SelectMultiple(options=PROVIDERS, value=tuple(PROVIDERS), description=\"Providers\"))\n",
    "def plot_cloud_geography(providers=None):\n",
    "    \"\"\"\n",
    "    Plot the cloud geography filtering by continent or provider if required. \n",
    "    \"\"\"\n",
    "    \n",
    "    # Create the axes object to plot on \n",
    "    _, ax = plt.subplots(figsize=(9,6))\n",
    "    ax.set_aspect('equal')\n",
    "    \n",
    "    # Load and filter the world map \n",
    "    world = geo.read_file(geo.datasets.get_path('naturalearth_lowres'))\n",
    "    world = world[(world.pop_est>0) & (world.name!=\"Antarctica\")]\n",
    "    \n",
    "    # Plot the world map \n",
    "    world.plot(ax=ax, color='#ecf0f1', edgecolor=\"#bdc3c7\", linewidth=0.75)\n",
    "    \n",
    "    # Plot the providers\n",
    "    if providers:\n",
    "        providers = set(providers) & PROVIDERS\n",
    "    else:\n",
    "        providers = PROVIDERS\n",
    "    \n",
    "    for provider in providers:\n",
    "        cities[cities['Provider']==provider].plot(\n",
    "            ax=ax, marker='o', markersize=10, alpha=0.7, \n",
    "            label=provider, color=COLORMAP[provider]\n",
    "        )\n",
    "\n",
    "    ax.legend(loc='lower left', frameon=True)\n",
    "    ax.set_xticks([])\n",
    "    ax.set_yticks([])\n",
    "    plt.tight_layout()\n",
    "    \n",
    "    return ax \n",
    "\n",
    "\n",
    "# plot_cloud_geography(providers=['AWS'])"
   ]
  }
 ],
 "metadata": {
  "kernelspec": {
   "display_name": "Python 3",
   "language": "python",
   "name": "python3"
  },
  "language_info": {
   "codemirror_mode": {
    "name": "ipython",
    "version": 3
   },
   "file_extension": ".py",
   "mimetype": "text/x-python",
   "name": "python",
   "nbconvert_exporter": "python",
   "pygments_lexer": "ipython3",
   "version": "3.6.2"
  }
 },
 "nbformat": 4,
 "nbformat_minor": 2
}
